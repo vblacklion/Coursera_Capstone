{
 "cells": [
  {
   "cell_type": "markdown",
   "metadata": {
    "collapsed": true
   },
   "source": [
    "# Capstone Project - The Battle of the Neighborhoods (Week 1) <a id=\"top\"></a>\n",
    "### Applied Data Science Capstone by IBM/Coursera "
   ]
  },
  {
   "cell_type": "markdown",
   "metadata": {},
   "source": [
    "## Table of contents\n",
    "1. [Introduction: Description & Disscusion of the Business Problem](#introduction)\n",
    "    1. [Problem Background](#prback)\n",
    "    2. [Problem Description and Target Audience](#desc_target)\n",
    "    3. [Success Criteria](#success)\n",
    "    \n",
    "2. [Importing Libraries](#libraries)\n",
    "3. [Entering Account Credentials](#account)\n",
    "3. [Collecting Data](#data)\n",
    "4. [References](#ref)"
   ]
  },
  {
   "cell_type": "markdown",
   "metadata": {},
   "source": [
    "## 1. Introduction: Description & Disscusion of the Business Problem <a name=\"introduction\"></a>"
   ]
  },
  {
   "cell_type": "markdown",
   "metadata": {},
   "source": [
    "### A. Problem Background: <a id=\"prback\"></a>"
   ]
  },
  {
   "cell_type": "markdown",
   "metadata": {},
   "source": [
    "Barcelona is a city on the coast of northeastern Spain. It is the capital and largest city of the autonomous community of Catalonia, as well as the second most populous municipality of Spain. With a population of 1.6 million within city limits, its urban area extends to numerous neighbouring municipalities within the Province of Barcelona and is home to around 4.8 million people, making it the fifth most populous urban area in the European Union after Paris, the Ruhr area, Madrid, and Milan. And it is also one of the largest metropolises on the Mediterranean Sea.__[1](https://en.wikipedia.org/wiki/Barcelona)__"
   ]
  },
  {
   "cell_type": "markdown",
   "metadata": {},
   "source": [
    "Barcelona is one of the world's leading tourist, economic, trade fair and cultural centres, and its influence in commerce, education, entertainment, sports, media, fashion, science, and the arts all contribute to its status as one of the major global cities."
   ]
  },
  {
   "cell_type": "markdown",
   "metadata": {},
   "source": [
    "This also means that the market is highly competitive. As it is highly developed city so cost of doing business is also one of the highest. Thus, any new business venture or expansion needs to be analysed carefully. The insights derived from analysis will give good understanding of the business environment which help in strategically targeting the market. This will help in reduction of risk. And the return on Investment will be reasonable."
   ]
  },
  {
   "cell_type": "markdown",
   "metadata": {},
   "source": [
    "### B. Problem Description and Target Audience: <a id=\"desc_target\"></a>"
   ]
  },
  {
   "cell_type": "markdown",
   "metadata": {},
   "source": [
    "In this project I will try to find an optimal location for a music bar. Specifically, this report will be **targeted to stakeholders** interested in opening an **Music/Karaoke Bar** in **Barcelona**, Spain.\n",
    "\n",
    "Since there are lots of Music Bars in Barcelona I will try to detect **locations that are not already crowded with music bars**. I am also particularly interested in **areas with no music bars in vicinity**. I would also prefer locations **as close to city center as possible**, assuming that first two conditions are met.\n",
    "\n",
    "I will use my data science skills to generate a few most promising neighborhoods based on above criteria. Advantages of each area will then be clearly expressed, so that best possible final location can be chosen by stakeholders."
   ]
  },
  {
   "cell_type": "markdown",
   "metadata": {},
   "source": [
    "### C. Success Criteria:¶ <a id=\"success\"></a>"
   ]
  },
  {
   "cell_type": "markdown",
   "metadata": {},
   "source": [
    "The objective is to locate and recommend to the management which neighborhood of Barcelona city will be best choice to start a Music Bar. \n",
    "\n",
    "This would interest anyone who wants to start a new restaurant in Newyork city.\n",
    "\n",
    "The success criteria of the project will be a good recommendation of borough/Neighborhood choice to stakeholders based on Lack of such bars in that location."
   ]
  },
  {
   "cell_type": "markdown",
   "metadata": {},
   "source": [
    "## 2. Importing Libraries <a name=\"libraries\"></a>"
   ]
  },
  {
   "cell_type": "code",
   "execution_count": 2,
   "metadata": {},
   "outputs": [
    {
     "name": "stdout",
     "output_type": "stream",
     "text": [
      "Libraries imported.\n",
      "0.11.0\n"
     ]
    }
   ],
   "source": [
    "import requests # library to handle requests\n",
    "import pandas as pd # library for data analsysis\n",
    "import numpy as np # library to handle data in a vectorized manner\n",
    "import random # library for random number generation\n",
    "import json # library to handle JSON files\n",
    "pd.set_option('display.max_columns', None)\n",
    "pd.set_option('display.max_rows', None)\n",
    "\n",
    "#!conda install -c conda-forge geopy --yes \n",
    "from geopy.geocoders import Nominatim # module to convert an address into latitude and longitude values\n",
    "\n",
    "# libraries for displaying images\n",
    "from IPython.display import Image \n",
    "from IPython.core.display import HTML \n",
    "    \n",
    "# tranforming json file into a pandas dataframe library\n",
    "from pandas import json_normalize \n",
    "\n",
    "#!conda install -c conda-forge folium=0.5.0 --yes\n",
    "import folium # plotting library\n",
    "#print (folium.__file__)\n",
    "\n",
    "# Matplotlib and associated plotting modules\n",
    "import matplotlib.cm as cm\n",
    "import matplotlib.colors as colors\n",
    "\n",
    "# import k-means from clustering stage\n",
    "from sklearn.cluster import KMeans\n",
    "\n",
    "print('Libraries imported.')\n",
    "print (folium.__version__)"
   ]
  },
  {
   "cell_type": "markdown",
   "metadata": {},
   "source": [
    "## 3. Entering Account Credentials <a id=\"account\"><a/>"
   ]
  },
  {
   "cell_type": "code",
   "execution_count": 3,
   "metadata": {},
   "outputs": [
    {
     "name": "stdout",
     "output_type": "stream",
     "text": [
      "Your credentials have been succesfully saved\n"
     ]
    }
   ],
   "source": [
    "# After running this cell I have deleted my account credentials before sharing.\n",
    "print('Your credentials have been succesfully saved')"
   ]
  },
  {
   "cell_type": "markdown",
   "metadata": {},
   "source": [
    "## 4. Collecting Data <a name=\"data\"></a>"
   ]
  },
  {
   "cell_type": "markdown",
   "metadata": {},
   "source": [
    "Based on definition of the problem, factors that will influence my decission are:\n",
    "* number of existing music bars in the neighborhood (any type of music bar)\n",
    "* number of and distance to music bars in the neighborhood, if any\n",
    "* distance of neighborhood from city center\n",
    "\n",
    "I will use barselona geojson data to define the neighborhoods.\n",
    "\n",
    "Following data sources will be needed to extract/generate the required information:\n",
    "* coordinate of Barcelona city center will be obtained using **Foursquare API** of well known Barcelona location (**La Rabmla**)\n",
    "\n",
    "* neighborhood areas will be generated with folium using geojson data of Barcelona districts. \n",
    "\n",
    "* number of music bars and their type and location in every neighborhood will be obtained using **Foursquare API**"
   ]
  },
  {
   "cell_type": "markdown",
   "metadata": {},
   "source": [
    "#### Barcelona Location:\n",
    "\n",
    "Let's first find the latitude & longitude of Barcelona city center, using specific, well known address \"La Rambla\" using Four Square API."
   ]
  },
  {
   "cell_type": "code",
   "execution_count": 4,
   "metadata": {},
   "outputs": [
    {
     "name": "stdout",
     "output_type": "stream",
     "text": [
      "Coordinate of La Rambla, Barcelona: Lat: 41.3810308, Lon: 2.1732403\n"
     ]
    }
   ],
   "source": [
    "address = 'La Rambla, Barcelona'\n",
    "\n",
    "geolocator = Nominatim(user_agent=\"foursquare_agent\")\n",
    "location = geolocator.geocode(address)\n",
    "latitude = location.latitude\n",
    "longitude = location.longitude\n",
    "print('Coordinate of {}: Lat: {}, Lon: {}'.format(address, latitude, longitude))"
   ]
  },
  {
   "cell_type": "markdown",
   "metadata": {},
   "source": [
    "Now, Let's create a map centered around La Rambla, Barcelona and play with the zoom level to see how it affects the rendered map."
   ]
  },
  {
   "cell_type": "code",
   "execution_count": 5,
   "metadata": {
    "scrolled": true
   },
   "outputs": [],
   "source": [
    "# create a plain Barcelona map\n",
    "barcelona_map = folium.Map(location=[latitude, longitude], zoom_start=12)"
   ]
  },
  {
   "cell_type": "markdown",
   "metadata": {},
   "source": [
    "<img src=\"map1.png\"/>"
   ]
  },
  {
   "cell_type": "markdown",
   "metadata": {},
   "source": [
    "It seems the coordinates are correct and the map is rendered without any problem."
   ]
  },
  {
   "cell_type": "markdown",
   "metadata": {},
   "source": [
    "Now let's load the geojson data to be able to see the neighboorhoods of Barcelona. You can found the geojson file that shows districst of Barcelona and more, __[here](https://github.com/martgnz/bcn-geodata/blob/master/districtes/districtes.json)__. [2](#2) Thanks to **martgnz** for providing this repository. "
   ]
  },
  {
   "cell_type": "code",
   "execution_count": 11,
   "metadata": {},
   "outputs": [
    {
     "name": "stdout",
     "output_type": "stream",
     "text": [
      "Barcelona Districts are added to the map\n"
     ]
    }
   ],
   "source": [
    "barcelona_geo =r'barcelona_districts.geojson'\n",
    "\n",
    "folium.GeoJson(barcelona_geo).add_to(barcelona_map)\n",
    "print(\"Barcelona Districts are added to the map\")"
   ]
  },
  {
   "cell_type": "markdown",
   "metadata": {},
   "source": [
    "<img src=\"map2.png\"/>"
   ]
  },
  {
   "cell_type": "markdown",
   "metadata": {},
   "source": [
    "This is the end of the first week's assignment."
   ]
  },
  {
   "cell_type": "markdown",
   "metadata": {},
   "source": [
    "## 5. References <a id=\"ref\"></a>"
   ]
  },
  {
   "cell_type": "markdown",
   "metadata": {},
   "source": [
    "1. [Barcelona - Wikipedia](https://en.wikipedia.org/wiki/Barcelona)\n",
    "2. [Martin Gonzalez - GitHub](https://github.com/martgnz/bcn-geodata/blob/master/districtes/districtes.json)"
   ]
  },
  {
   "cell_type": "markdown",
   "metadata": {},
   "source": [
    "[To Top](#top)"
   ]
  }
 ],
 "metadata": {
  "kernelspec": {
   "display_name": "Python 3",
   "language": "python",
   "name": "python3"
  },
  "language_info": {
   "codemirror_mode": {
    "name": "ipython",
    "version": 3
   },
   "file_extension": ".py",
   "mimetype": "text/x-python",
   "name": "python",
   "nbconvert_exporter": "python",
   "pygments_lexer": "ipython3",
   "version": "3.8.2"
  }
 },
 "nbformat": 4,
 "nbformat_minor": 1
}
